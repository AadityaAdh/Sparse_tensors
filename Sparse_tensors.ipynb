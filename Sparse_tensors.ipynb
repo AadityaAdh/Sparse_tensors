{
  "nbformat": 4,
  "nbformat_minor": 0,
  "metadata": {
    "colab": {
      "provenance": [],
      "authorship_tag": "ABX9TyN2v5ds5yhqRsnad0E8aIs0",
      "include_colab_link": true
    },
    "kernelspec": {
      "name": "python3",
      "display_name": "Python 3"
    },
    "language_info": {
      "name": "python"
    }
  },
  "cells": [
    {
      "cell_type": "markdown",
      "metadata": {
        "id": "view-in-github",
        "colab_type": "text"
      },
      "source": [
        "<a href=\"https://colab.research.google.com/github/AadityaAdh/Sparse_tensors/blob/main/Sparse_tensors.ipynb\" target=\"_parent\"><img src=\"https://colab.research.google.com/assets/colab-badge.svg\" alt=\"Open In Colab\"/></a>"
      ]
    },
    {
      "cell_type": "code",
      "execution_count": null,
      "metadata": {
        "id": "gW-in6o-pVAj"
      },
      "outputs": [],
      "source": [
        "import tensorflow as tf\n"
      ]
    },
    {
      "cell_type": "markdown",
      "source": [
        "Sparse tensors are a type of data structure used in various machine learning and numerical computing applications to efficiently represent and store tensors that have a large number of zero or near-zero elements. In contrast to dense tensors, which store every element, sparse tensors only store the non-zero elements along with their indices.\n",
        "\n",
        "This can be beneficial in scenarios where the data is sparse, meaning that a significant portion of the tensor consists of zeros. Sparse tensors help save memory and computational resources, as operations involving zero elements are avoided."
      ],
      "metadata": {
        "id": "8b-gl0Topqb_"
      }
    },
    {
      "cell_type": "markdown",
      "source": [
        "so ysma cai non zero ko value matrai save hunxa\n",
        "aani tini haru kun kun index ma xan tyo pani\n",
        "aani original zero huda ko matrix shape matrai not matrix\n",
        "aani yesko yo shape lae yedi zero ni vako tensor banuni ho vanae banauna sakinxa"
      ],
      "metadata": {
        "id": "aQ3rYJbPnIGb"
      }
    },
    {
      "cell_type": "markdown",
      "source": [
        "#tf.sparse.SparseTensor\n",
        "\n",
        "\n",
        "Represents a sparse tensor.\n",
        "\n",
        "tf.sparse.SparseTensor(\n",
        "\n",
        "\n",
        "    indices, values, dense_shape\n",
        ")\n",
        "\n",
        "indices vanya kun kun index ma non zero xan\n",
        "values vanya non zero values\n",
        "dense shape vanya original shape zero pani huda ko\n",
        "\n",
        "indices:\n",
        "\n",
        "\tA 2-D int64 tensor of shape [N, ndims].\n",
        "values:\n",
        "\n",
        "\tA 1-D tensor of any type and shape [N].\n",
        "dense_shape:\n",
        "\n",
        "\tA 1-D int64 tensor of shape [ndims]."
      ],
      "metadata": {
        "id": "-3FqmnD5njaR"
      }
    },
    {
      "cell_type": "code",
      "source": [
        "x=tf.sparse.SparseTensor(indices=[[0, 0], [1, 2]], values=[1, 2], dense_shape=[3, 4])\n",
        "x"
      ],
      "metadata": {
        "id": "Fg8UUt7epp1n",
        "colab": {
          "base_uri": "https://localhost:8080/"
        },
        "outputId": "84ce1d71-5efe-4d58-a0f6-0c6a3273d02f"
      },
      "execution_count": null,
      "outputs": [
        {
          "output_type": "execute_result",
          "data": {
            "text/plain": [
              "SparseTensor(indices=tf.Tensor(\n",
              "[[0 0]\n",
              " [1 2]], shape=(2, 2), dtype=int64), values=tf.Tensor([1 2], shape=(2,), dtype=int32), dense_shape=tf.Tensor([3 4], shape=(2,), dtype=int64))"
            ]
          },
          "metadata": {},
          "execution_count": 4
        }
      ]
    },
    {
      "cell_type": "code",
      "source": [
        "#0,0 ma vako value 1 vanya aani 1,2 ma vako value chai 2 vanya\n",
        "#aaba yesko original matrix herni vaye\n"
      ],
      "metadata": {
        "id": "YqzlyA6DoBV5"
      },
      "execution_count": null,
      "outputs": []
    },
    {
      "cell_type": "markdown",
      "source": [
        "#tf.sparse.to_dense(your sparse tensor)\n",
        "to convert it to like zero pani vako tensor ma\n",
        "\n"
      ],
      "metadata": {
        "id": "aKnLcBjbpBSx"
      }
    },
    {
      "cell_type": "code",
      "source": [
        "tf.sparse.to_dense(x)\n",
        "#dense_shape 3,4 xa so 3,4 ko matrix\n",
        "#aani jun jun index ma value dya xa tyo value\n",
        "#baki rako ma zer0"
      ],
      "metadata": {
        "colab": {
          "base_uri": "https://localhost:8080/"
        },
        "id": "U84nBDGqpPmu",
        "outputId": "10f75160-d872-4be0-cef7-b5cb4a4fe5bf"
      },
      "execution_count": null,
      "outputs": [
        {
          "output_type": "execute_result",
          "data": {
            "text/plain": [
              "<tf.Tensor: shape=(3, 4), dtype=int32, numpy=\n",
              "array([[1, 0, 0, 0],\n",
              "       [0, 0, 2, 0],\n",
              "       [0, 0, 0, 0]], dtype=int32)>"
            ]
          },
          "metadata": {},
          "execution_count": 6
        }
      ]
    },
    {
      "cell_type": "code",
      "source": [
        "#lets do it for 3d\n",
        "k=tf.sparse.SparseTensor([[0,0,1],[1,2,1]],[11,22],dense_shape=[2,3,3])\n",
        "k"
      ],
      "metadata": {
        "colab": {
          "base_uri": "https://localhost:8080/"
        },
        "id": "yNh_WubNpbvO",
        "outputId": "3a889f5a-5746-4025-cbb6-492bdf66d133"
      },
      "execution_count": null,
      "outputs": [
        {
          "output_type": "execute_result",
          "data": {
            "text/plain": [
              "SparseTensor(indices=tf.Tensor(\n",
              "[[0 0 1]\n",
              " [1 2 1]], shape=(2, 3), dtype=int64), values=tf.Tensor([11 22], shape=(2,), dtype=int32), dense_shape=tf.Tensor([2 3 3], shape=(3,), dtype=int64))"
            ]
          },
          "metadata": {},
          "execution_count": 9
        }
      ]
    },
    {
      "cell_type": "code",
      "source": [
        "tf.sparse.to_dense(k)"
      ],
      "metadata": {
        "colab": {
          "base_uri": "https://localhost:8080/"
        },
        "id": "HDjXmAfMqjAm",
        "outputId": "18cc5177-f4c6-4390-b459-40ebcfd1612c"
      },
      "execution_count": null,
      "outputs": [
        {
          "output_type": "execute_result",
          "data": {
            "text/plain": [
              "<tf.Tensor: shape=(2, 3, 3), dtype=int32, numpy=\n",
              "array([[[ 0, 11,  0],\n",
              "        [ 0,  0,  0],\n",
              "        [ 0,  0,  0]],\n",
              "\n",
              "       [[ 0,  0,  0],\n",
              "        [ 0,  0,  0],\n",
              "        [ 0, 22,  0]]], dtype=int32)>"
            ]
          },
          "metadata": {},
          "execution_count": 10
        }
      ]
    },
    {
      "cell_type": "code",
      "source": [],
      "metadata": {
        "id": "O36wzvApqrDs"
      },
      "execution_count": null,
      "outputs": []
    }
  ]
}